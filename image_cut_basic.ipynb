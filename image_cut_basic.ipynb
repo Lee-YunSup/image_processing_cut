{
 "cells": [
  {
   "cell_type": "code",
   "execution_count": 2,
   "metadata": {},
   "outputs": [],
   "source": [
    "import matplotlib.pyplot as plt\n",
    "import sklearn as sk\n",
    "import tensorflow as tf\n",
    "import pandas as pd\n",
    "import numpy as np\n",
    "import keras\n",
    "import scipy\n",
    "import sympy\n",
    "import datetime"
   ]
  },
  {
   "cell_type": "code",
   "execution_count": 4,
   "metadata": {},
   "outputs": [],
   "source": [
    "import cv2, numpy as np\n",
    "\n",
    "img = cv2.imread('Image/lena.jpg')\n",
    "\n",
    "nowDate=datetime.datetime.now().strftime('%Y%m%d_%H%M%S')\n",
    "fileName = 'lena_cropped_'+ nowDate + '.jpg'\n",
    "\n",
    "x,y,w,h = cv2.selectROI('img', img)\n",
    "if w and h:\n",
    "    roi = img[y:y+h, x:x+w]\n",
    "    cv2.imshow('cropped', roi)                 \n",
    "    cv2.moveWindow('cropped', 0, 0)             \n",
    "    cv2.imwrite(fileName, roi)                  \n",
    "    \n",
    "cv2.imshow('img', img)\n",
    "cv2.waitKey(0)\n",
    "cv2.destroyAllWindows()"
   ]
  }
 ],
 "metadata": {
  "kernelspec": {
   "display_name": "base",
   "language": "python",
   "name": "python3"
  },
  "language_info": {
   "codemirror_mode": {
    "name": "ipython",
    "version": 3
   },
   "file_extension": ".py",
   "mimetype": "text/x-python",
   "name": "python",
   "nbconvert_exporter": "python",
   "pygments_lexer": "ipython3",
   "version": "3.9.13"
  },
  "orig_nbformat": 4,
  "vscode": {
   "interpreter": {
    "hash": "ad2bdc8ecc057115af97d19610ffacc2b4e99fae6737bb82f5d7fb13d2f2c186"
   }
  }
 },
 "nbformat": 4,
 "nbformat_minor": 2
}
