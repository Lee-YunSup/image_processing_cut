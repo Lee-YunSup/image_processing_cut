{
 "cells": [
  {
   "cell_type": "code",
   "execution_count": 1,
   "metadata": {},
   "outputs": [],
   "source": [
    "import matplotlib.pyplot as plt\n",
    "import sklearn as sk\n",
    "import tensorflow as tf\n",
    "import pandas as pd\n",
    "import numpy as np\n",
    "import keras\n",
    "import scipy\n",
    "import sympy\n",
    "import datetime"
   ]
  },
  {
   "cell_type": "code",
   "execution_count": 2,
   "metadata": {},
   "outputs": [],
   "source": [
    "import cv2\n",
    "import numpy as np\n",
    "\n",
    "drawing=False\n",
    "mode=True\n",
    "image = cv2.imread('Image/lena.jpg')\n",
    "list1=[]\n",
    "x_point=[]\n",
    "y_point=[]\n",
    "\n",
    "def paint_draw(event,former_x,former_y,ddd,ddda):\n",
    "    global current_former_x,current_former_y,q1,p1,drawing, mode, list1, x_point, y_point\n",
    "\n",
    "    if event==cv2.EVENT_LBUTTONDOWN: # 왼쪽 마우스 클릭\n",
    "        drawing=True\n",
    "        current_former_x,current_former_y=former_x,former_y\n",
    "        q1 = former_x\n",
    "        p1 = former_y\n",
    "        list1.append([former_x,former_y])\n",
    "        x_point.append(former_x)\n",
    "        y_point.append(former_y)\n",
    "\n",
    "    elif event==cv2.EVENT_MOUSEMOVE: # 마우스 움직임\n",
    "        if drawing==True:\n",
    "            if mode==True:\n",
    "                cv2.line(image,(current_former_x,current_former_y),(former_x,former_y),(0,0,255),5)\n",
    "                current_former_x = former_x\n",
    "                current_former_y = former_y\n",
    "                list1.append([former_x,former_y])\n",
    "                x_point.append(former_x)\n",
    "                y_point.append(former_y)\n",
    "                \n",
    "    elif event==cv2.EVENT_LBUTTONUP: # 왼쪽 마우스 때기\n",
    "        drawing=False\n",
    "        if mode==True:\n",
    "            cv2.line(image,(current_former_x,current_former_y),(former_x,former_y),(0,0,255),5)\n",
    "            cv2.line(image,(current_former_x,current_former_y),(q1,p1),(0,0,255),5)\n",
    "            current_former_x = former_x\n",
    "            current_former_y = former_y\n",
    "            list1.append([former_x,former_y])\n",
    "            x_point.append(former_x)\n",
    "            y_point.append(former_y)\n",
    "    cv2.imshow('image', image)"
   ]
  },
  {
   "cell_type": "code",
   "execution_count": 3,
   "metadata": {},
   "outputs": [],
   "source": [
    "img = cv2.imread('Image/lena.jpg')\n",
    "cv2.imshow('image', img)\n",
    "cv2.setMouseCallback('image', paint_draw, img)\n",
    "cv2.waitKey()\n",
    "cv2.destroyAllWindows()"
   ]
  },
  {
   "cell_type": "code",
   "execution_count": 4,
   "metadata": {},
   "outputs": [],
   "source": [
    "import numpy as np\n",
    "pts4=np.array(list1, np.int32)"
   ]
  },
  {
   "cell_type": "code",
   "execution_count": 5,
   "metadata": {},
   "outputs": [],
   "source": [
    "img=cv2.fillPoly(img,[pts4],(255,0,0))  \n",
    "cv2.imshow('polyline', img)\n",
    "cv2.waitKey(0)\n",
    "cv2.destroyAllWindows()"
   ]
  },
  {
   "cell_type": "code",
   "execution_count": 6,
   "metadata": {},
   "outputs": [],
   "source": [
    "x_min=min(x_point)\n",
    "x_max=max(x_point)\n",
    "y_min=min(y_point)\n",
    "y_max=max(y_point)"
   ]
  },
  {
   "cell_type": "code",
   "execution_count": 7,
   "metadata": {},
   "outputs": [
    {
     "data": {
      "text/plain": [
       "True"
      ]
     },
     "execution_count": 7,
     "metadata": {},
     "output_type": "execute_result"
    }
   ],
   "source": [
    "nowDate=datetime.datetime.now().strftime('%Y%m%d_%H%M%S')\n",
    "fileName = 'lena_cropped_'+ nowDate + '.jpg'\n",
    "roi = img[y_min:y_max, x_min:x_max] \n",
    "\n",
    "cv2.imwrite(fileName, roi)"
   ]
  },
  {
   "cell_type": "code",
   "execution_count": 9,
   "metadata": {},
   "outputs": [
    {
     "data": {
      "text/plain": [
       "True"
      ]
     },
     "execution_count": 9,
     "metadata": {},
     "output_type": "execute_result"
    }
   ],
   "source": [
    "nowDate=datetime.datetime.now().strftime('%Y%m%d_%H%M%S')\n",
    "fileName2 = 'black_cropped_'+ nowDate + '.jpg'\n",
    "\n",
    "\n",
    "black_background = np.zeros((512,512,3),np.uint8)\n",
    "black_background = cv2.fillPoly(black_background,[pts4],(255,0,0))  \n",
    "roi = black_background[y_min:y_max, x_min:x_max] \n",
    "cv2.imwrite(fileName2, roi)  "
   ]
  },
  {
   "cell_type": "code",
   "execution_count": 10,
   "metadata": {},
   "outputs": [
    {
     "data": {
      "text/plain": [
       "True"
      ]
     },
     "execution_count": 10,
     "metadata": {},
     "output_type": "execute_result"
    }
   ],
   "source": [
    "nowDate=datetime.datetime.now().strftime('%Y%m%d_%H%M%S')\n",
    "fileName3 = 'only_lena_'+ nowDate + '.jpg'\n",
    "\n",
    "image = cv2.imread('Image/lena.jpg')\n",
    "roi = image[y_min:y_max, x_min:x_max] \n",
    "cv2.imwrite(fileName3, roi)  "
   ]
  }
 ],
 "metadata": {
  "kernelspec": {
   "display_name": "base",
   "language": "python",
   "name": "python3"
  },
  "language_info": {
   "codemirror_mode": {
    "name": "ipython",
    "version": 3
   },
   "file_extension": ".py",
   "mimetype": "text/x-python",
   "name": "python",
   "nbconvert_exporter": "python",
   "pygments_lexer": "ipython3",
   "version": "3.9.13"
  },
  "orig_nbformat": 4,
  "vscode": {
   "interpreter": {
    "hash": "ad2bdc8ecc057115af97d19610ffacc2b4e99fae6737bb82f5d7fb13d2f2c186"
   }
  }
 },
 "nbformat": 4,
 "nbformat_minor": 2
}
